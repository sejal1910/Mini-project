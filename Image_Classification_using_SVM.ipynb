{
  "nbformat": 4,
  "nbformat_minor": 0,
  "metadata": {
    "colab": {
      "name": "Image Classification using SVM.ipynb",
      "provenance": [],
      "collapsed_sections": [],
      "authorship_tag": "ABX9TyNVmouqJFWH0yZscrGl+U2E",
      "include_colab_link": true
    },
    "kernelspec": {
      "name": "python3",
      "display_name": "Python 3"
    },
    "language_info": {
      "name": "python"
    }
  },
  "cells": [
    {
      "cell_type": "markdown",
      "metadata": {
        "id": "view-in-github",
        "colab_type": "text"
      },
      "source": [
        "<a href=\"https://colab.research.google.com/github/sejal1910/Mini-project/blob/main/Image_Classification_using_SVM.ipynb\" target=\"_parent\"><img src=\"https://colab.research.google.com/assets/colab-badge.svg\" alt=\"Open In Colab\"/></a>"
      ]
    },
    {
      "cell_type": "code",
      "metadata": {
        "colab": {
          "base_uri": "https://localhost:8080/"
        },
        "id": "mc8TFEAuiGad",
        "outputId": "26af596c-d887-452a-d401-18c0bd4ad78d"
      },
      "source": [
        "!pip install ipython-autotime\n",
        "%load_ext autotime"
      ],
      "execution_count": 7,
      "outputs": [
        {
          "output_type": "stream",
          "text": [
            "Collecting ipython-autotime\n",
            "  Downloading https://files.pythonhosted.org/packages/b4/c9/b413a24f759641bc27ef98c144b590023c8038dfb8a3f09e713e9dff12c1/ipython_autotime-0.3.1-py2.py3-none-any.whl\n",
            "Requirement already satisfied: ipython in /usr/local/lib/python3.7/dist-packages (from ipython-autotime) (5.5.0)\n",
            "Requirement already satisfied: pygments in /usr/local/lib/python3.7/dist-packages (from ipython->ipython-autotime) (2.6.1)\n",
            "Requirement already satisfied: prompt-toolkit<2.0.0,>=1.0.4 in /usr/local/lib/python3.7/dist-packages (from ipython->ipython-autotime) (1.0.18)\n",
            "Requirement already satisfied: decorator in /usr/local/lib/python3.7/dist-packages (from ipython->ipython-autotime) (4.4.2)\n",
            "Requirement already satisfied: pexpect; sys_platform != \"win32\" in /usr/local/lib/python3.7/dist-packages (from ipython->ipython-autotime) (4.8.0)\n",
            "Requirement already satisfied: pickleshare in /usr/local/lib/python3.7/dist-packages (from ipython->ipython-autotime) (0.7.5)\n",
            "Requirement already satisfied: simplegeneric>0.8 in /usr/local/lib/python3.7/dist-packages (from ipython->ipython-autotime) (0.8.1)\n",
            "Requirement already satisfied: traitlets>=4.2 in /usr/local/lib/python3.7/dist-packages (from ipython->ipython-autotime) (5.0.5)\n",
            "Requirement already satisfied: setuptools>=18.5 in /usr/local/lib/python3.7/dist-packages (from ipython->ipython-autotime) (56.1.0)\n",
            "Requirement already satisfied: wcwidth in /usr/local/lib/python3.7/dist-packages (from prompt-toolkit<2.0.0,>=1.0.4->ipython->ipython-autotime) (0.2.5)\n",
            "Requirement already satisfied: six>=1.9.0 in /usr/local/lib/python3.7/dist-packages (from prompt-toolkit<2.0.0,>=1.0.4->ipython->ipython-autotime) (1.15.0)\n",
            "Requirement already satisfied: ptyprocess>=0.5 in /usr/local/lib/python3.7/dist-packages (from pexpect; sys_platform != \"win32\"->ipython->ipython-autotime) (0.7.0)\n",
            "Requirement already satisfied: ipython-genutils in /usr/local/lib/python3.7/dist-packages (from traitlets>=4.2->ipython->ipython-autotime) (0.2.0)\n",
            "Installing collected packages: ipython-autotime\n",
            "Successfully installed ipython-autotime-0.3.1\n",
            "time: 213 µs (started: 2021-05-16 16:06:33 +00:00)\n"
          ],
          "name": "stdout"
        }
      ]
    },
    {
      "cell_type": "code",
      "metadata": {
        "id": "6ee_bJNrG1rj"
      },
      "source": [
        "# Gathering of Data using Bing Downloader\n",
        "# Data : Images\n",
        "# Categories : cricket bat and apple fruit"
      ],
      "execution_count": null,
      "outputs": []
    },
    {
      "cell_type": "code",
      "metadata": {
        "colab": {
          "base_uri": "https://localhost:8080/"
        },
        "id": "TY39jdxUgVxb",
        "outputId": "1c9d3b03-734d-48b8-d0a5-03cd2158ee9d"
      },
      "source": [
        "!pip install bing-image-downloader"
      ],
      "execution_count": 1,
      "outputs": [
        {
          "output_type": "stream",
          "text": [
            "Collecting bing-image-downloader\n",
            "  Downloading https://files.pythonhosted.org/packages/0d/bf/537a61030b84ae4cd5022d5c7b014fd9bc3ce7c02358919153a6658a61d3/bing_image_downloader-1.0.4-py3-none-any.whl\n",
            "Installing collected packages: bing-image-downloader\n",
            "Successfully installed bing-image-downloader-1.0.4\n"
          ],
          "name": "stdout"
        }
      ]
    },
    {
      "cell_type": "code",
      "metadata": {
        "id": "SZVBEdCrgajk"
      },
      "source": [
        "!mkdir images"
      ],
      "execution_count": 2,
      "outputs": []
    },
    {
      "cell_type": "code",
      "metadata": {
        "colab": {
          "base_uri": "https://localhost:8080/"
        },
        "id": "OR8p5oLngiuc",
        "outputId": "0f5cfc89-2a25-436a-8a36-cc9f7999817f"
      },
      "source": [
        "from bing_image_downloader import downloader\n",
        "downloader.download(\"cricket bat\",limit=30,output_dir='images')"
      ],
      "execution_count": 3,
      "outputs": [
        {
          "output_type": "stream",
          "text": [
            "\n",
            "\n",
            "[!!]Indexing page: 1\n",
            "\n",
            "[%] Indexed 30 Images on Page 1.\n",
            "\n",
            "===============================================\n",
            "\n",
            "[%] Downloading Image #1 from https://www.sports91.com/wp-content/uploads/2019/04/5b17a6f4ee3028e012227959.jpg\n",
            "[Error]Invalid image, not saving https://www.sports91.com/wp-content/uploads/2019/04/5b17a6f4ee3028e012227959.jpg\n",
            "\n",
            "[!] Issue getting: https://www.sports91.com/wp-content/uploads/2019/04/5b17a6f4ee3028e012227959.jpg\n",
            "[!] Error:: No active exception to reraise\n",
            "[%] Downloading Image #1 from https://blog.playo.co/wp-content/uploads/2017/08/Adidas-Incurza.jpg\n",
            "[%] File Downloaded !\n",
            "\n",
            "[%] Downloading Image #2 from https://ethlits.com/media/catalog/product/cache/1/image/1200x/999c6c65e255d7531240810e30f61e61/s/g/sg_hp33_english_willow_cricket_bat_size_sh_ethlits.com_3_.jpg\n",
            "[%] File Downloaded !\n",
            "\n",
            "[%] Downloading Image #3 from https://res-5.cloudinary.com/s247/image/upload/c_pad,dpr_1.0,f_auto,q_auto/media/catalog/product/w/o/woodworm-cricket-ib-select-grade-1-cricket-bat.png\n",
            "[%] File Downloaded !\n",
            "\n",
            "[%] Downloading Image #4 from https://ethlits.com/media/catalog/product/cache/1/image/1200x/999c6c65e255d7531240810e30f61e61/s/s/ss_vintage_5.0_english_willow_cricket_bat_size_sh_ethlits.com_1__1.jpg\n",
            "[%] File Downloaded !\n",
            "\n",
            "[%] Downloading Image #5 from https://storage.sg.content-cdn.io/cdn-cgi/image/{width},{height},quality=75,format=auto/in-resources/b368029c-a4dd-448a-a888-58348cb1b144/Images/ProductImages/Source/SSKWTNRV.jpg\n",
            "[%] File Downloaded !\n",
            "\n",
            "[%] Downloading Image #6 from https://res-1.cloudinary.com/s247/image/upload/c_pad,dpr_1.0,f_auto,h_800,q_auto,w_800/media/catalog/product/c/d/cd0609dfa-281b-4b65-a831-d7c33bd0e797_1000_category.jpg\n",
            "[%] File Downloaded !\n",
            "\n",
            "[%] Downloading Image #7 from https://www.cricketequipmentusa.com/content/images/thumbs/0003517_cricket-bat-english-willow-surge-300-by-kookaburra.jpeg\n",
            "[%] File Downloaded !\n",
            "\n",
            "[%] Downloading Image #8 from https://www.corivalsports.com/wp-content/uploads/2019/09/Black-Cobra-Grouped.jpg\n",
            "[%] File Downloaded !\n",
            "\n",
            "[%] Downloading Image #9 from http://www.sccricket.com/wp-content/uploads/2019/01/ALLweb-1.jpg\n",
            "[%] File Downloaded !\n",
            "\n",
            "[%] Downloading Image #10 from https://www.khelmart.com/Cricket/zoomer_Image/TH_CBK_00039_O_large.jpg\n",
            "[%] File Downloaded !\n",
            "\n",
            "[%] Downloading Image #11 from https://eguide.netkosh.com/wp-content/uploads/2019/11/lycan.jpg\n",
            "[%] File Downloaded !\n",
            "\n",
            "[%] Downloading Image #12 from https://cdn.shopify.com/s/files/1/0167/6391/2292/products/GM_Diamond_Cricket-Bat_606-3-view_6a716863-cce6-41d4-9168-36c08cc4ef26_2000x.jpg?v=1600816986\n",
            "[%] File Downloaded !\n",
            "\n",
            "[%] Downloading Image #13 from http://www.khelmart.com/Cricket/zoomer_Image/SS_EN_000020_1_large.jpg\n",
            "[%] File Downloaded !\n",
            "\n",
            "[%] Downloading Image #14 from https://clearancecricketstore.com.au/wp-content/uploads/2019/09/cae5c802-4018-4ba2-8f05-f047b1600054-1.jpeg\n",
            "[%] File Downloaded !\n",
            "\n",
            "[%] Downloading Image #15 from https://ethlits.com/media/catalog/product/cache/1/image/1200x/999c6c65e255d7531240810e30f61e61/s/s/ss_ton_classic_english_willow_cricket_bat_ethlits.com_2_.jpg\n",
            "[%] File Downloaded !\n",
            "\n",
            "[%] Downloading Image #16 from https://n3.sdlcdn.com/imgs/g/t/b/spartan_blue_popular_willow_cricket_SDL568742857_1_ccf26-4b5eb.jpeg\n",
            "[%] File Downloaded !\n",
            "\n",
            "[%] Downloading Image #17 from http://www.khelmart.com/Cricket/zoomer_Image/SG_ECB_0002_large.jpg\n",
            "[%] File Downloaded !\n",
            "\n",
            "[%] Downloading Image #18 from http://www.khelmart.com/Cricket/zoomer_Image/KK_EW_000089_large.jpg\n",
            "[%] File Downloaded !\n",
            "\n",
            "[%] Downloading Image #19 from https://www.cricketequipmentusa.com/content/images/thumbs/0003509_cricket-bat-english-willow-kahuna-500-by-kookaburra.jpeg\n",
            "[%] File Downloaded !\n",
            "\n",
            "[%] Downloading Image #20 from https://www.prodirectcricket.com/productimages/Main/193889_Main_Thumb_0381209.jpg\n",
            "[!] Issue getting: https://www.prodirectcricket.com/productimages/Main/193889_Main_Thumb_0381209.jpg\n",
            "[!] Error:: HTTP Error 403: Forbidden\n",
            "[%] Downloading Image #20 from https://www.khelmart.com/Cricket/zoomer_Image/SM_CBT_00002_large.jpg\n",
            "[%] File Downloaded !\n",
            "\n",
            "[%] Downloading Image #21 from https://n4.sdlcdn.com/imgs/a/4/v/Kookaburra-Cricket-Bat-SDL562835624-1-1841d.jpg\n",
            "[%] File Downloaded !\n",
            "\n",
            "[%] Downloading Image #22 from https://www.khelmart.com/Cricket/zoomer_Image/SG_EN_000031_large.jpg\n",
            "[%] File Downloaded !\n",
            "\n",
            "[%] Downloading Image #23 from https://www.mrcrickethockey.com/wp-content/uploads/2019/04/Gunn-and-Moore-Mana-Cricket-Bat-2016.jpg\n",
            "[%] File Downloaded !\n",
            "\n",
            "[%] Downloading Image #24 from https://www.khelmart.com/Cricket/zoomer_Image/SF_EN_000050_K_large.jpg\n",
            "[%] File Downloaded !\n",
            "\n",
            "[%] Downloading Image #25 from https://www.khelmart.com/Cricket/zoomer_Image/TH_CBK_00045_P_large.jpg\n",
            "[%] File Downloaded !\n",
            "\n",
            "[%] Downloading Image #26 from https://n2.sdlcdn.com/imgs/b/l/9/Sunley-Pro-Cricket-Bat-SDL106409902-1-2c358.jpg\n",
            "[%] File Downloaded !\n",
            "\n",
            "[%] Downloading Image #27 from https://www.cjicricket.com/images/stories/virtuemart/product/Hell_4_Leather_H_56a0c780e5d4b.jpg\n",
            "[%] File Downloaded !\n",
            "\n",
            "[%] Downloading Image #28 from https://www.cricketequipmentusa.com/content/images/thumbs/0003889_blaze-cricket-bat-made-from-poplar-wood-tennis-ball-bat-medium-weight-blue-short-handle.jpeg\n",
            "[%] File Downloaded !\n",
            "\n",
            "\n",
            "\n",
            "[!!]Indexing page: 2\n",
            "\n",
            "[%] Indexed 35 Images on Page 2.\n",
            "\n",
            "===============================================\n",
            "\n",
            "[%] Downloading Image #29 from https://www.sports91.com/wp-content/uploads/2019/04/5b17a6f4ee3028e012227959.jpg\n",
            "[Error]Invalid image, not saving https://www.sports91.com/wp-content/uploads/2019/04/5b17a6f4ee3028e012227959.jpg\n",
            "\n",
            "[!] Issue getting: https://www.sports91.com/wp-content/uploads/2019/04/5b17a6f4ee3028e012227959.jpg\n",
            "[!] Error:: No active exception to reraise\n",
            "[%] Downloading Image #29 from https://www.cricketequipmentusa.com/content/images/thumbs/0003910_cricket-bat-english-willow-mana-f45-dxm-404-ttnow-by-gunn-moore.jpeg\n",
            "[%] File Downloaded !\n",
            "\n",
            "[%] Downloading Image #30 from https://ethlits.com/media/catalog/product/cache/1/thumbnail/4f9502202b77059316180a23e4857517/s/g/sg_hp33_english_willow_cricket_bat_size_sh_ethlits.com_3_.jpg\n",
            "[%] File Downloaded !\n",
            "\n",
            "\n",
            "\n",
            "[%] Done. Downloaded 30 images.\n",
            "\n",
            "===============================================\n",
            "\n"
          ],
          "name": "stdout"
        }
      ]
    },
    {
      "cell_type": "code",
      "metadata": {
        "colab": {
          "base_uri": "https://localhost:8080/"
        },
        "id": "COT8APr6hJLS",
        "outputId": "5b337823-1d7b-4e57-8549-db4bc999d08f"
      },
      "source": [
        "downloader.download(\"apple fruit\",limit=30,output_dir='images')"
      ],
      "execution_count": 4,
      "outputs": [
        {
          "output_type": "stream",
          "text": [
            "\n",
            "\n",
            "[!!]Indexing page: 1\n",
            "\n",
            "[%] Indexed 30 Images on Page 1.\n",
            "\n",
            "===============================================\n",
            "\n",
            "[%] Downloading Image #1 from https://vignette.wikia.nocookie.net/fruits-information/images/2/2b/Apple.jpg/revision/latest?cb=20180802112257\n",
            "[%] File Downloaded !\n",
            "\n",
            "[%] Downloading Image #2 from https://www.healthbenefitstimes.com/9/gallery/apple/Apple-fruit.jpg\n",
            "[%] File Downloaded !\n",
            "\n",
            "[%] Downloading Image #3 from https://jooinn.com/images/red-apple-fruit-1.jpg\n",
            "[%] File Downloaded !\n",
            "\n",
            "[%] Downloading Image #4 from https://www.theayurveda.org/wp-content/uploads/2015/08/Apple-fruit.jpg\n",
            "[%] File Downloaded !\n",
            "\n",
            "[%] Downloading Image #5 from https://images.pexels.com/photos/39803/pexels-photo-39803.jpeg?cs=srgb&amp;dl=apple-fruit-healthy-food-39803.jpg&amp;fm=jpg\n",
            "[%] File Downloaded !\n",
            "\n",
            "[%] Downloading Image #6 from http://www.chhajedgarden.com/media/catalog/product/cache/1/image/9df78eab33525d08d6e5fb8d27136e95/0/4/04_apples.jpg\n",
            "[%] File Downloaded !\n",
            "\n",
            "[%] Downloading Image #7 from http://medilifefood.com/wp-content/uploads/2019/10/purepng.com-red-appleappleapplesfruitsweet-1701527180174lrnig.png\n",
            "[%] File Downloaded !\n",
            "\n",
            "[%] Downloading Image #8 from http://images6.fanpop.com/image/photos/34900000/Apple-fruit-34914774-693-693.jpg\n",
            "[%] File Downloaded !\n",
            "\n",
            "[%] Downloading Image #9 from https://bangaloreagrico.in/wp-content/uploads/2018/01/apple-plant-bangalore-agrico.jpg\n",
            "[%] File Downloaded !\n",
            "\n",
            "[%] Downloading Image #10 from http://treefruit.wsu.edu/wp-content/uploads/2014/10/clonal-apples.jpg\n",
            "[%] File Downloaded !\n",
            "\n",
            "[%] Downloading Image #11 from https://salixfruits.com/assets/img/apples-02.jpg\n",
            "[%] File Downloaded !\n",
            "\n",
            "[%] Downloading Image #12 from http://2.bp.blogspot.com/-M_Vmb930MtQ/T7pF_Pyx5bI/AAAAAAAABMM/Q_VtD-ILbig/s1600/apple2.jpg\n",
            "[%] File Downloaded !\n",
            "\n",
            "[%] Downloading Image #13 from http://aggie-horticulture.tamu.edu/vegetable/files/2011/10/apple26.jpg\n",
            "[%] File Downloaded !\n",
            "\n",
            "[%] Downloading Image #14 from https://idsb.tmgrup.com.tr/ly/uploads/images/2020/05/13/thumbs/1200x600/35552.jpg\n",
            "[%] File Downloaded !\n",
            "\n",
            "[%] Downloading Image #15 from http://images5.fanpop.com/image/photos/31100000/apples-fruit-31188668-1707-2560.jpg\n",
            "[%] File Downloaded !\n",
            "\n",
            "[%] Downloading Image #16 from https://www.setaswall.com/wp-content/uploads/2018/05/Apple-Fruit-Grass-Wallpaper-720x1520.jpg\n",
            "[%] File Downloaded !\n",
            "\n",
            "[%] Downloading Image #17 from https://www.fruitcentermarketplace.com/assets/2016/07/apple-single-red.jpg\n",
            "[%] File Downloaded !\n",
            "\n",
            "[%] Downloading Image #18 from https://www.hdwallpapersfreedownload.com/uploads/large/fruits/red-apple-hd-background.jpg\n",
            "[%] File Downloaded !\n",
            "\n",
            "[%] Downloading Image #19 from http://www.fruitshare.ca/wp-content/uploads/2011/08/apple.jpg\n",
            "[%] File Downloaded !\n",
            "\n",
            "[%] Downloading Image #20 from https://images.heb.com/is/image/HEBGrocery/001422652\n",
            "[%] File Downloaded !\n",
            "\n",
            "[%] Downloading Image #21 from https://toppng.com/uploads/preview/apple-fruit-11526067113bpkdzjmq8g.png\n",
            "[%] File Downloaded !\n",
            "\n",
            "[%] Downloading Image #22 from https://images.wallpaperscraft.com/image/apples_fruit_ripe_120635_2160x3840.jpg\n",
            "[Error]Invalid image, not saving https://images.wallpaperscraft.com/image/apples_fruit_ripe_120635_2160x3840.jpg\n",
            "\n",
            "[!] Issue getting: https://images.wallpaperscraft.com/image/apples_fruit_ripe_120635_2160x3840.jpg\n",
            "[!] Error:: No active exception to reraise\n",
            "[%] Downloading Image #22 from http://ayay.co.uk/backgrounds/food_and_drink/fruit/red-apple.jpg\n",
            "[%] File Downloaded !\n",
            "\n",
            "[%] Downloading Image #23 from http://nammamaligai.com/wp-content/uploads/2016/10/apple-type1.jpg\n",
            "[%] File Downloaded !\n",
            "\n",
            "[%] Downloading Image #24 from http://www.gardeningknowhow.com/wp-content/uploads/2013/07/small-apples.jpg\n",
            "[%] File Downloaded !\n",
            "\n",
            "[%] Downloading Image #25 from http://2vegetable.com/wp-content/uploads/2018/11/Export-Red-Delicious-apple-fruit-from-Iran3.jpg\n",
            "[%] File Downloaded !\n",
            "\n",
            "[%] Downloading Image #26 from http://www.ljagilamplighter.com/wp-content/uploads/Apple-Fruit1.jpg\n",
            "[%] File Downloaded !\n",
            "\n",
            "[%] Downloading Image #27 from http://images6.fanpop.com/image/photos/34900000/Green-Apple-fruit-34914750-1200-737.jpg\n",
            "[%] File Downloaded !\n",
            "\n",
            "[%] Downloading Image #28 from https://5.imimg.com/data5/HF/CW/MY-51857835/organic-apple-fruit-500x500.jpg\n",
            "[%] File Downloaded !\n",
            "\n",
            "[%] Downloading Image #29 from https://oneflowyogastudio.com/wp-content/uploads/2019/01/Apple-fruit.jpg\n",
            "[%] File Downloaded !\n",
            "\n",
            "\n",
            "\n",
            "[!!]Indexing page: 2\n",
            "\n",
            "[%] Indexed 35 Images on Page 2.\n",
            "\n",
            "===============================================\n",
            "\n",
            "[%] Downloading Image #30 from https://vignette.wikia.nocookie.net/fruits-information/images/2/2b/Apple.jpg/revision/latest?cb=20180802112257\n",
            "[%] File Downloaded !\n",
            "\n",
            "\n",
            "\n",
            "[%] Done. Downloaded 30 images.\n",
            "\n",
            "===============================================\n",
            "\n"
          ],
          "name": "stdout"
        }
      ]
    },
    {
      "cell_type": "code",
      "metadata": {
        "colab": {
          "base_uri": "https://localhost:8080/"
        },
        "id": "1-WsTmu4hiZw",
        "outputId": "ef8f5add-109d-422d-8050-d773a02d2870"
      },
      "source": [
        "# Preprocessing\n",
        "# 1. Resize\n",
        "# 2.Flattening\n",
        "\n",
        "import os\n",
        "import matplotlib.pyplot as plt\n",
        "import numpy as np\n",
        "from skimage.io import imread\n",
        "from skimage.transform import resize\n",
        "from skimage.color import rgb2gray\n",
        "\n",
        "target = []\n",
        "images = []\n",
        "flat_data = []\n",
        "\n",
        "datadir = '/content/images'\n",
        "categories = ['cricket bat','apple fruit']\n",
        "\n",
        "for category in categories:\n",
        "  class_num=categories.index(category)    #Label encoding the values\n",
        "  path=os.path.join(datadir,category)      #Creating path to access all the images\n",
        "  for img in os.listdir(path):\n",
        "    img_array=imread(os.path.join(path,img))\n",
        "    #print(img_array.shape)\n",
        "    #plt.imshow(img_array)\n",
        "    img_resized = resize(img_array,(70,70))        #Normalizes the values in the range 0 to 1\n",
        "    img_gray = rgb2gray(img_resized)               #Converting RGB image into grayscale image\n",
        "    flat_data.append(img_gray.flatten())           \n",
        "    images.append(img_gray)\n",
        "    target.append(class_num)\n",
        "\n",
        "flat_data=np.array(flat_data)\n",
        "target=np.array(target)\n",
        "images=np.array(images)\n",
        "    "
      ],
      "execution_count": 75,
      "outputs": [
        {
          "output_type": "stream",
          "text": [
            "time: 1min 17s (started: 2021-05-16 18:11:45 +00:00)\n"
          ],
          "name": "stdout"
        }
      ]
    },
    {
      "cell_type": "code",
      "metadata": {
        "colab": {
          "base_uri": "https://localhost:8080/"
        },
        "id": "ImnoYLr3ijYn",
        "outputId": "e649e187-04ed-46ee-d7f4-8cce0612caad"
      },
      "source": [
        "len(flat_data[0])"
      ],
      "execution_count": 76,
      "outputs": [
        {
          "output_type": "execute_result",
          "data": {
            "text/plain": [
              "4900"
            ]
          },
          "metadata": {
            "tags": []
          },
          "execution_count": 76
        },
        {
          "output_type": "stream",
          "text": [
            "time: 6.16 ms (started: 2021-05-16 18:13:06 +00:00)\n"
          ],
          "name": "stdout"
        }
      ]
    },
    {
      "cell_type": "code",
      "metadata": {
        "colab": {
          "base_uri": "https://localhost:8080/"
        },
        "id": "6kR6zLwBjAsc",
        "outputId": "d50fc63f-9dac-4f75-ba8f-cf6cb55f6d4b"
      },
      "source": [
        "70*70"
      ],
      "execution_count": 77,
      "outputs": [
        {
          "output_type": "execute_result",
          "data": {
            "text/plain": [
              "4900"
            ]
          },
          "metadata": {
            "tags": []
          },
          "execution_count": 77
        },
        {
          "output_type": "stream",
          "text": [
            "time: 3.84 ms (started: 2021-05-16 18:13:09 +00:00)\n"
          ],
          "name": "stdout"
        }
      ]
    },
    {
      "cell_type": "code",
      "metadata": {
        "colab": {
          "base_uri": "https://localhost:8080/"
        },
        "id": "_9GRhBc2jDG2",
        "outputId": "2daddd89-3386-430b-ead7-3b50fdd326d8"
      },
      "source": [
        "target"
      ],
      "execution_count": 78,
      "outputs": [
        {
          "output_type": "execute_result",
          "data": {
            "text/plain": [
              "array([0, 0, 0, 0, 0, 0, 0, 0, 0, 0, 0, 0, 0, 0, 0, 0, 0, 0, 0, 0, 0, 0,\n",
              "       0, 0, 0, 0, 0, 0, 0, 0, 1, 1, 1, 1, 1, 1, 1, 1, 1, 1, 1, 1, 1, 1,\n",
              "       1, 1, 1, 1, 1, 1, 1, 1, 1, 1, 1, 1, 1, 1, 1, 1])"
            ]
          },
          "metadata": {
            "tags": []
          },
          "execution_count": 78
        },
        {
          "output_type": "stream",
          "text": [
            "time: 5.14 ms (started: 2021-05-16 18:13:16 +00:00)\n"
          ],
          "name": "stdout"
        }
      ]
    },
    {
      "cell_type": "code",
      "metadata": {
        "colab": {
          "base_uri": "https://localhost:8080/",
          "height": 298
        },
        "id": "RG1NZaDNjHxx",
        "outputId": "e7a404d4-f8ad-420a-9dba-d46b746633d1"
      },
      "source": [
        "unique,count = np.unique(target,return_counts=True)\n",
        "plt.bar(categories,count)"
      ],
      "execution_count": 79,
      "outputs": [
        {
          "output_type": "execute_result",
          "data": {
            "text/plain": [
              "<BarContainer object of 2 artists>"
            ]
          },
          "metadata": {
            "tags": []
          },
          "execution_count": 79
        },
        {
          "output_type": "display_data",
          "data": {
            "image/png": "[encoded data removed]",
            "text/plain": [
              "<Figure size 432x288 with 1 Axes>"
            ]
          },
          "metadata": {
            "tags": [],
            "needs_background": "light"
          }
        },
        {
          "output_type": "stream",
          "text": [
            "time: 171 ms (started: 2021-05-16 18:13:18 +00:00)\n"
          ],
          "name": "stdout"
        }
      ]
    },
    {
      "cell_type": "code",
      "metadata": {
        "colab": {
          "base_uri": "https://localhost:8080/"
        },
        "id": "dp85c_g0jO6M",
        "outputId": "463ac434-9184-4fbe-c61f-2982c6b8a859"
      },
      "source": [
        "# Spliting data into training and testing \n",
        "from sklearn.model_selection import train_test_split\n",
        "x_train,x_test,y_train,y_test = train_test_split(flat_data,target,\n",
        "                                                 test_size=0.3,random_state=109)"
      ],
      "execution_count": 80,
      "outputs": [
        {
          "output_type": "stream",
          "text": [
            "time: 10.7 ms (started: 2021-05-16 18:13:24 +00:00)\n"
          ],
          "name": "stdout"
        }
      ]
    },
    {
      "cell_type": "code",
      "metadata": {
        "colab": {
          "base_uri": "https://localhost:8080/"
        },
        "id": "GzZ_Yu5kjSmg",
        "outputId": "0476b451-0bd9-4492-9760-a1fc71583839"
      },
      "source": [
        "from sklearn.model_selection import GridSearchCV\n",
        "from sklearn import svm\n",
        "param_grid =[\n",
        "              {'C':[1,10,100,1000],'kernel':['linear']},\n",
        "              {'C':[1,10,100,1000],'gamma':[0.001,0.0001],'kernel':['rbf']},\n",
        "]\n",
        "\n",
        "svc = svm.SVC(probability=True)\n",
        "clf = GridSearchCV(svc,param_grid)\n",
        "clf.fit(x_train,y_train)\n"
      ],
      "execution_count": 81,
      "outputs": [
        {
          "output_type": "execute_result",
          "data": {
            "text/plain": [
              "GridSearchCV(cv=None, error_score=nan,\n",
              "             estimator=SVC(C=1.0, break_ties=False, cache_size=200,\n",
              "                           class_weight=None, coef0=0.0,\n",
              "                           decision_function_shape='ovr', degree=3,\n",
              "                           gamma='scale', kernel='rbf', max_iter=-1,\n",
              "                           probability=True, random_state=None, shrinking=True,\n",
              "                           tol=0.001, verbose=False),\n",
              "             iid='deprecated', n_jobs=None,\n",
              "             param_grid=[{'C': [1, 10, 100, 1000], 'kernel': ['linear']},\n",
              "                         {'C': [1, 10, 100, 1000], 'gamma': [0.001, 0.0001],\n",
              "                          'kernel': ['rbf']}],\n",
              "             pre_dispatch='2*n_jobs', refit=True, return_train_score=False,\n",
              "             scoring=None, verbose=0)"
            ]
          },
          "metadata": {
            "tags": []
          },
          "execution_count": 81
        },
        {
          "output_type": "stream",
          "text": [
            "time: 2.35 s (started: 2021-05-16 18:13:28 +00:00)\n"
          ],
          "name": "stdout"
        }
      ]
    },
    {
      "cell_type": "code",
      "metadata": {
        "colab": {
          "base_uri": "https://localhost:8080/"
        },
        "id": "TTixXuz6jhnG",
        "outputId": "378c421d-0cbb-4959-c22d-dd45fd7d2fa6"
      },
      "source": [
        "y_pred = clf.predict(x_test)\n",
        "y_pred"
      ],
      "execution_count": 82,
      "outputs": [
        {
          "output_type": "execute_result",
          "data": {
            "text/plain": [
              "array([0, 0, 0, 1, 0, 0, 1, 0, 0, 1, 1, 0, 1, 0, 1, 0, 0, 0])"
            ]
          },
          "metadata": {
            "tags": []
          },
          "execution_count": 82
        },
        {
          "output_type": "stream",
          "text": [
            "time: 15.2 ms (started: 2021-05-16 18:13:39 +00:00)\n"
          ],
          "name": "stdout"
        }
      ]
    },
    {
      "cell_type": "code",
      "metadata": {
        "colab": {
          "base_uri": "https://localhost:8080/"
        },
        "id": "NfQQL1SwkDp-",
        "outputId": "070ef13a-343b-4b4b-b469-80fd850ba32a"
      },
      "source": [
        "y_test"
      ],
      "execution_count": 83,
      "outputs": [
        {
          "output_type": "execute_result",
          "data": {
            "text/plain": [
              "array([0, 0, 0, 1, 0, 0, 1, 0, 0, 1, 1, 1, 1, 0, 1, 0, 0, 0])"
            ]
          },
          "metadata": {
            "tags": []
          },
          "execution_count": 83
        },
        {
          "output_type": "stream",
          "text": [
            "time: 4.72 ms (started: 2021-05-16 18:13:43 +00:00)\n"
          ],
          "name": "stdout"
        }
      ]
    },
    {
      "cell_type": "code",
      "metadata": {
        "colab": {
          "base_uri": "https://localhost:8080/"
        },
        "id": "Pj3QA1ybkH-Z",
        "outputId": "a2b183d8-64fe-4b5e-9bd7-d1578eab549e"
      },
      "source": [
        "from sklearn.metrics import accuracy_score,confusion_matrix"
      ],
      "execution_count": 84,
      "outputs": [
        {
          "output_type": "stream",
          "text": [
            "time: 990 µs (started: 2021-05-16 18:13:47 +00:00)\n"
          ],
          "name": "stdout"
        }
      ]
    },
    {
      "cell_type": "code",
      "metadata": {
        "colab": {
          "base_uri": "https://localhost:8080/"
        },
        "id": "U9WMl_EAkMt4",
        "outputId": "6a3b8371-f421-4a0b-b2c2-a46ab8fd7ac6"
      },
      "source": [
        "accuracy_score(y_pred,y_test)"
      ],
      "execution_count": 85,
      "outputs": [
        {
          "output_type": "execute_result",
          "data": {
            "text/plain": [
              "0.9444444444444444"
            ]
          },
          "metadata": {
            "tags": []
          },
          "execution_count": 85
        },
        {
          "output_type": "stream",
          "text": [
            "time: 3.94 ms (started: 2021-05-16 18:13:50 +00:00)\n"
          ],
          "name": "stdout"
        }
      ]
    },
    {
      "cell_type": "code",
      "metadata": {
        "colab": {
          "base_uri": "https://localhost:8080/"
        },
        "id": "fMB1pHclkRDZ",
        "outputId": "6fbaca8d-f418-4cdc-9ea1-6771b57aa131"
      },
      "source": [
        "confusion_matrix(y_pred,y_test)"
      ],
      "execution_count": 86,
      "outputs": [
        {
          "output_type": "execute_result",
          "data": {
            "text/plain": [
              "array([[11,  1],\n",
              "       [ 0,  6]])"
            ]
          },
          "metadata": {
            "tags": []
          },
          "execution_count": 86
        },
        {
          "output_type": "stream",
          "text": [
            "time: 9.89 ms (started: 2021-05-16 18:13:56 +00:00)\n"
          ],
          "name": "stdout"
        }
      ]
    },
    {
      "cell_type": "code",
      "metadata": {
        "colab": {
          "base_uri": "https://localhost:8080/"
        },
        "id": "WOvOfouupsBI",
        "outputId": "07a79888-f56d-4c67-ff03-2a437b3d679c"
      },
      "source": [
        "# Save the model using Pickle library\n",
        "import pickle\n",
        "pickle.dump(clf,open('img_model.p','wb'))"
      ],
      "execution_count": 88,
      "outputs": [
        {
          "output_type": "stream",
          "text": [
            "time: 6.12 ms (started: 2021-05-16 18:14:13 +00:00)\n"
          ],
          "name": "stdout"
        }
      ]
    },
    {
      "cell_type": "code",
      "metadata": {
        "colab": {
          "base_uri": "https://localhost:8080/"
        },
        "id": "RjV2TaYjuqcK",
        "outputId": "cf7d73c6-9c44-4a93-a920-c797f744df9f"
      },
      "source": [
        "model = pickle.load(open('img_model.p','rb'))"
      ],
      "execution_count": 89,
      "outputs": [
        {
          "output_type": "stream",
          "text": [
            "time: 3.76 ms (started: 2021-05-16 18:14:16 +00:00)\n"
          ],
          "name": "stdout"
        }
      ]
    },
    {
      "cell_type": "code",
      "metadata": {
        "colab": {
          "base_uri": "https://localhost:8080/",
          "height": 335
        },
        "id": "DeIRL208vVJi",
        "outputId": "d89f3ff1-7510-44e0-eec7-23323b200657"
      },
      "source": [
        "#Testing a brand new image\n",
        "flat_data = []\n",
        "url = input('Enter your URL')\n",
        "img = imread(url)\n",
        "img_resized = resize(img,(70,70))\n",
        "img_gray = rgb2gray(img_resized)\n",
        "flat_data.append(img_gray.flatten())\n",
        "flat_data = np.array(flat_data)\n",
        "print(img.shape)\n",
        "plt.imshow(img_gray,cmap='gray')\n",
        "y_out = model.predict(flat_data)\n",
        "y_out = categories[y_out[0]]\n",
        "print(f'PREDICTED OUTPUT : {y_out}')"
      ],
      "execution_count": 96,
      "outputs": [
        {
          "output_type": "stream",
          "text": [
            "Enter your URLhttps://encrypted-tbn0.gstatic.com/images?q=tbn:ANd9GcSGPYG8AseEw5-K6cw-AthdvWZFdtJIoQAxkw&usqp=CAU\n",
            "(225, 225, 3)\n",
            "PREDICTED OUTPUT : cricket bat\n"
          ],
          "name": "stdout"
        },
        {
          "output_type": "display_data",
          "data": {
            "image/png": "[encoded data removed]",
            "text/plain": [
              "<Figure size 432x288 with 1 Axes>"
            ]
          },
          "metadata": {
            "tags": [],
            "needs_background": "light"
          }
        },
        {
          "output_type": "stream",
          "text": [
            "time: 4.73 s (started: 2021-05-16 18:20:57 +00:00)\n"
          ],
          "name": "stdout"
        }
      ]
    }
  ]
}